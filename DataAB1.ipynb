{
 "cells": [
  {
   "cell_type": "code",
   "execution_count": 1,
   "id": "a67a22bc-f9fd-4cba-bfd7-b4ea2161cecc",
   "metadata": {},
   "outputs": [
    {
     "name": "stdout",
     "output_type": "stream",
     "text": [
      "            Date       Open       High        Low      Close  Adj Close  \\\n",
      "0     02/01/1990   19791668   20500000   19666668   20500000   11043630   \n",
      "1     03/01/1990   20500000   21083332   20250000   21000000   11312984   \n",
      "2     04/01/1990   20916668   20916668   20500000   20916668   11268099   \n",
      "3     05/01/1990   20791668   20791668   20583332   20625000   11110966   \n",
      "4     08/01/1990   20625000   20916668   20541668   20875000   11245644   \n",
      "...          ...        ...        ...        ...        ...        ...   \n",
      "8646  29/04/2024  167899994  173809998  167550003  173490005  173490005   \n",
      "8647  30/04/2024  171490005  174070007  167759995  167839996  167839996   \n",
      "8648  01/05/2024  167500000  173860001  167500000  171460007  171460007   \n",
      "8649  02/05/2024  173000000  178899994  172250000  178850006  178850006   \n",
      "8650  03/05/2024  179589996  180490005  177899994  179166504  179166504   \n",
      "\n",
      "        Volume  \n",
      "0      2042400  \n",
      "1      2803200  \n",
      "2      3361500  \n",
      "3      1600500  \n",
      "4      1416600  \n",
      "...        ...  \n",
      "8646   7788600  \n",
      "8647   8248800  \n",
      "8648   6191900  \n",
      "8649  10209900  \n",
      "8650   3157605  \n",
      "\n",
      "[8651 rows x 7 columns]\n"
     ]
    }
   ],
   "source": [
    "import pandas as pd\n",
    "dataset = pd.read_csv('C:/tugas AI/BA.2.csv', sep=\";\")\n",
    "print (dataset)"
   ]
  },
  {
   "cell_type": "markdown",
   "id": "fb6745f9-1c7c-4840-b369-fba7643f9533",
   "metadata": {},
   "source": [
    "Query ini membaca sebuah file CSV yang terletak di lokasi 'C:/tugas AI/BA.2.csv' menggunakan library pandas di Python. File CSV tersebut kemudian disimpan ke dalam variabel dataset."
   ]
  },
  {
   "cell_type": "code",
   "execution_count": 2,
   "id": "a28bdac2-f2d0-470d-bb5a-fd89eb3846f1",
   "metadata": {},
   "outputs": [
    {
     "data": {
      "text/plain": [
       "Index(['Date', 'Open', 'High', 'Low', 'Close', 'Adj Close', 'Volume'], dtype='object')"
      ]
     },
     "execution_count": 2,
     "metadata": {},
     "output_type": "execute_result"
    }
   ],
   "source": [
    "dataset.columns"
   ]
  },
  {
   "cell_type": "markdown",
   "id": "ea1885d1-0f8b-46ff-a59d-3da33cb826a7",
   "metadata": {},
   "source": [
    "Query ini digunakan untuk mendapatkan daftar nama kolom yang ada dalam dataset "
   ]
  },
  {
   "cell_type": "code",
   "execution_count": 3,
   "id": "64339da3-8598-44e7-9bb1-a85654bc2470",
   "metadata": {},
   "outputs": [
    {
     "name": "stdout",
     "output_type": "stream",
     "text": [
      "           Open       High        Low    Volume\n",
      "0      19791668   20500000   19666668   2042400\n",
      "1      20500000   21083332   20250000   2803200\n",
      "2      20916668   20916668   20500000   3361500\n",
      "3      20791668   20791668   20583332   1600500\n",
      "4      20625000   20916668   20541668   1416600\n",
      "...         ...        ...        ...       ...\n",
      "8646  167899994  173809998  167550003   7788600\n",
      "8647  171490005  174070007  167759995   8248800\n",
      "8648  167500000  173860001  167500000   6191900\n",
      "8649  173000000  178899994  172250000  10209900\n",
      "8650  179589996  180490005  177899994   3157605\n",
      "\n",
      "[8651 rows x 4 columns]\n"
     ]
    }
   ],
   "source": [
    "X = dataset[['Open','High','Low','Volume']]\n",
    "print(X)"
   ]
  },
  {
   "cell_type": "markdown",
   "id": "4f01369d-4037-4eaf-b038-942209d3d1b8",
   "metadata": {},
   "source": [
    "Query ini digunakan untuk membuat DataFrame baru yang hanya berisi kolom-kolom tertentu dari dataset asli"
   ]
  },
  {
   "cell_type": "code",
   "execution_count": 4,
   "id": "7de36821-e060-4062-8f37-45f1c4b634ec",
   "metadata": {},
   "outputs": [
    {
     "name": "stdout",
     "output_type": "stream",
     "text": [
      "          Close  Adj Close\n",
      "0      20500000   11043630\n",
      "1      21000000   11312984\n",
      "2      20916668   11268099\n",
      "3      20625000   11110966\n",
      "4      20875000   11245644\n",
      "...         ...        ...\n",
      "8646  173490005  173490005\n",
      "8647  167839996  167839996\n",
      "8648  171460007  171460007\n",
      "8649  178850006  178850006\n",
      "8650  179166504  179166504\n",
      "\n",
      "[8651 rows x 2 columns]\n"
     ]
    }
   ],
   "source": [
    "y = dataset[['Close','Adj Close']]\n",
    "print(y)"
   ]
  },
  {
   "cell_type": "markdown",
   "id": "705cfdc0-bf8c-4176-8bf5-1df30804e708",
   "metadata": {},
   "source": [
    "Query ini digunakan untuk membuat DataFrame baru yang hanya berisi kolom-kolom tertentu dari dataset asli"
   ]
  },
  {
   "cell_type": "code",
   "execution_count": 5,
   "id": "9a0bacc4-411a-4663-8f29-d43c9b5e622d",
   "metadata": {},
   "outputs": [],
   "source": [
    "import sklearn \n",
    "from sklearn.model_selection import train_test_split\n",
    "\n",
    "X_train, X_test, y_train, y_test = train_test_split(X, y, test_size=0.2, random_state=1)"
   ]
  },
  {
   "cell_type": "markdown",
   "id": "1e4df6d0-5411-42b6-a88e-8e5d862e1f23",
   "metadata": {},
   "source": [
    "Query ini menggunakan fungsi train_test_split dari modul model_selection dalam library scikit-learn (sklearn) untuk membagi dataset menjadi dua subset: data pelatihan (training data) dan data uji (test data)"
   ]
  },
  {
   "cell_type": "code",
   "execution_count": 6,
   "id": "eb6edd58-3f3b-4337-b8fd-ac5ccdb7f930",
   "metadata": {},
   "outputs": [
    {
     "data": {
      "text/plain": [
       "1731"
      ]
     },
     "execution_count": 6,
     "metadata": {},
     "output_type": "execute_result"
    }
   ],
   "source": [
    "len(X_test)"
   ]
  },
  {
   "cell_type": "markdown",
   "id": "7eb80562-f197-4c12-91cc-9dc261682f99",
   "metadata": {},
   "source": [
    "Query len(X_test) digunakan untuk menghitung jumlah baris atau jumlah sampel dalam subset data uji (X_test) yang telah dibuat sebelumnya melalui pemisahan dataset menggunakan train_test_split"
   ]
  },
  {
   "cell_type": "code",
   "execution_count": 7,
   "id": "0196dd7c-0470-4ea2-a21a-98210e6840ee",
   "metadata": {},
   "outputs": [
    {
     "data": {
      "text/plain": [
       "6920"
      ]
     },
     "execution_count": 7,
     "metadata": {},
     "output_type": "execute_result"
    }
   ],
   "source": [
    "len(y_train)"
   ]
  },
  {
   "cell_type": "markdown",
   "id": "c342f5ce-8380-47b9-85d5-67ba43155708",
   "metadata": {},
   "source": [
    "Query len(y_train) digunakan untuk menghitung jumlah baris atau jumlah sampel dalam subset data uji (y_train) yang telah dibuat sebelumnya melalui pemisahan dataset menggunakan train_test_split"
   ]
  },
  {
   "cell_type": "code",
   "execution_count": 8,
   "id": "b1f03281-aafb-4c36-b3bf-e325bcf735f2",
   "metadata": {},
   "outputs": [],
   "source": [
    "from sklearn import tree\n",
    "\n",
    "clf = tree.DecisionTreeClassifier()"
   ]
  },
  {
   "cell_type": "markdown",
   "id": "192780df-7334-4c7c-b32c-bc4a2f75f7f3",
   "metadata": {},
   "source": [
    "Query ini digunakan untuk membuat sebuah Decision Tree Classifier menggunakan library scikit-learn (sklearn) dalam bahasa Python"
   ]
  },
  {
   "cell_type": "code",
   "execution_count": 47,
   "id": "8905f3a2-e6ad-4030-92bb-cd645a62e20a",
   "metadata": {},
   "outputs": [
    {
     "name": "stdout",
     "output_type": "stream",
     "text": [
      "[0.15 0.   0.25 0.   0.  ]\n"
     ]
    }
   ],
   "source": [
    "from sklearn.multioutput import MultiOutputClassifier\n",
    "from sklearn.ensemble import RandomForestClassifier\n",
    "from sklearn.model_selection import cross_val_score\n",
    "\n",
    "multi_target_classifier = MultiOutputClassifier(RandomForestClassifier())\n",
    "from sklearn.metrics import accuracy_score\n",
    "scorer = make_scorer(accuracy_score)\n",
    "scores = cross_val_score(multi_target_classifier, X, y, cv=5, scoring=scorer)\n",
    "print(scores)"
   ]
  },
  {
   "cell_type": "markdown",
   "id": "0fc30da6-9f85-485b-ab5d-f9a09ff889ff",
   "metadata": {},
   "source": [
    "Query ini digunakan untuk melakukan validasi silang (cross-validation) menggunakan MultiOutputClassifier dengan Random Forest Classifier sebagai estimator di setiap outputnya. Kemudian, metrik yang digunakan untuk mengevaluasi performa model adalah akurasi (accuracy). Hasil dari print scorernya tidak akurat karena menggunakan akurasi (accuracy) sebagai metrik evaluasi pada masalah multioutput dengan RandomForestClassifier, semua query sudah di coba tetapi tetap tidak akurat"
   ]
  }
 ],
 "metadata": {
  "kernelspec": {
   "display_name": "Python 3 (ipykernel)",
   "language": "python",
   "name": "python3"
  },
  "language_info": {
   "codemirror_mode": {
    "name": "ipython",
    "version": 3
   },
   "file_extension": ".py",
   "mimetype": "text/x-python",
   "name": "python",
   "nbconvert_exporter": "python",
   "pygments_lexer": "ipython3",
   "version": "3.11.7"
  }
 },
 "nbformat": 4,
 "nbformat_minor": 5
}
